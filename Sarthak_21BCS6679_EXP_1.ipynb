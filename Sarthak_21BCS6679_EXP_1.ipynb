{
  "nbformat": 4,
  "nbformat_minor": 0,
  "metadata": {
    "colab": {
      "provenance": []
    },
    "kernelspec": {
      "name": "python3",
      "display_name": "Python 3"
    },
    "language_info": {
      "name": "python"
    }
  },
  "cells": [
    {
      "cell_type": "code",
      "execution_count": 1,
      "metadata": {
        "colab": {
          "base_uri": "https://localhost:8080/"
        },
        "id": "SUoXbFJlUIfo",
        "outputId": "91b815da-4b30-4f69-d1bf-511aafd914ab"
      },
      "outputs": [
        {
          "output_type": "stream",
          "name": "stdout",
          "text": [
            "Requirement already satisfied: nltk in /usr/local/lib/python3.10/dist-packages (3.8.1)\n",
            "Requirement already satisfied: click in /usr/local/lib/python3.10/dist-packages (from nltk) (8.1.7)\n",
            "Requirement already satisfied: joblib in /usr/local/lib/python3.10/dist-packages (from nltk) (1.3.2)\n",
            "Requirement already satisfied: regex>=2021.8.3 in /usr/local/lib/python3.10/dist-packages (from nltk) (2023.12.25)\n",
            "Requirement already satisfied: tqdm in /usr/local/lib/python3.10/dist-packages (from nltk) (4.66.1)\n"
          ]
        }
      ],
      "source": [
        "pip install nltk"
      ]
    },
    {
      "cell_type": "code",
      "source": [
        "import nltk\n",
        "nltk.download('punkt')\n",
        "from nltk.tokenize import word_tokenize, sent_tokenize, regexp_tokenize, TweetTokenizer\n",
        "\n",
        "# Sample text for demonstration\n",
        "sample_text = \"NLP LAB 1 EXP 1 apply different tokenization techniques using nltk. Will learn about natural language tool-kit.\"\n",
        "\n",
        "# Word Tokenization\n",
        "words = word_tokenize(sample_text)\n",
        "print(\"Word Tokenization:\")\n",
        "print(words)\n",
        "\n",
        "# Sentence Tokenization\n",
        "sentences = sent_tokenize(sample_text)\n",
        "print(\"\\nSentence Tokenization:\")\n",
        "print(sentences)\n",
        "\n",
        "# Regular Expression Tokenization\n",
        "# Tokenize based on words containing alphabets\n",
        "regexp_tokens = regexp_tokenize(sample_text, pattern=r'\\b\\w+\\b')\n",
        "print(\"\\nRegExp Tokenization (Alphabets Only):\")\n",
        "print(regexp_tokens)\n",
        "\n",
        "# Tokenize based on words containing alphabets and digits\n",
        "regexp_tokens_with_digits = regexp_tokenize(sample_text, pattern=r'\\b\\w+\\b|\\d+')\n",
        "print(\"\\nRegExp Tokenization (Alphabets and Digits):\")\n",
        "print(regexp_tokens_with_digits)\n",
        "\n",
        "# Custom Tokenization (e.g., splitting by hyphens)\n",
        "custom_tokens = sample_text.split('-')\n",
        "print(\"\\nCustom Tokenization (Splitting by Hyphens):\")\n",
        "print(custom_tokens)\n",
        "\n",
        "# Tweet Tokenization (Handles mentions, hashtags, and URLs)\n",
        "tweet_tokenizer = TweetTokenizer()\n",
        "tweet_tokens = tweet_tokenizer.tokenize(\"This is a #tweet with @mentions and a URL: https://example.com\")\n",
        "print(\"\\nTweet Tokenization:\")\n",
        "print(tweet_tokens)"
      ],
      "metadata": {
        "colab": {
          "base_uri": "https://localhost:8080/"
        },
        "id": "5m-YXmnFUX0y",
        "outputId": "5b37396f-3cff-4d44-c9fa-620a87b3fb9e"
      },
      "execution_count": 5,
      "outputs": [
        {
          "output_type": "stream",
          "name": "stdout",
          "text": [
            "Word Tokenization:\n",
            "['NLP', 'LAB', '1', 'EXP', '1', 'apply', 'different', 'tokenization', 'techniques', 'using', 'nltk', '.', 'Will', 'learn', 'about', 'natural', 'language', 'tool-kit', '.']\n",
            "\n",
            "Sentence Tokenization:\n",
            "['NLP LAB 1 EXP 1 apply different tokenization techniques using nltk.', 'Will learn about natural language tool-kit.']\n",
            "\n",
            "RegExp Tokenization (Alphabets Only):\n",
            "['NLP', 'LAB', '1', 'EXP', '1', 'apply', 'different', 'tokenization', 'techniques', 'using', 'nltk', 'Will', 'learn', 'about', 'natural', 'language', 'tool', 'kit']\n",
            "\n",
            "RegExp Tokenization (Alphabets and Digits):\n",
            "['NLP', 'LAB', '1', 'EXP', '1', 'apply', 'different', 'tokenization', 'techniques', 'using', 'nltk', 'Will', 'learn', 'about', 'natural', 'language', 'tool', 'kit']\n",
            "\n",
            "Custom Tokenization (Splitting by Hyphens):\n",
            "['NLP LAB 1 EXP 1 apply different tokenization techniques using nltk. Will learn about natural language tool', 'kit.']\n",
            "\n",
            "Tweet Tokenization:\n",
            "['This', 'is', 'a', '#tweet', 'with', '@mentions', 'and', 'a', 'URL', ':', 'https://example.com']\n"
          ]
        },
        {
          "output_type": "stream",
          "name": "stderr",
          "text": [
            "[nltk_data] Downloading package punkt to /root/nltk_data...\n",
            "[nltk_data]   Package punkt is already up-to-date!\n"
          ]
        }
      ]
    },
    {
      "cell_type": "code",
      "source": [],
      "metadata": {
        "id": "VYUQZnf4Uiii"
      },
      "execution_count": null,
      "outputs": []
    }
  ]
}